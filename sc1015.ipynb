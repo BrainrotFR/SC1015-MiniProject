{
 "cells": [
  {
   "cell_type": "markdown",
   "id": "3b175941",
   "metadata": {},
   "source": [
    "Mini-Project bla bla bla"
   ]
  },
  {
   "cell_type": "markdown",
   "id": "1f74c9a6",
   "metadata": {},
   "source": [
    "import "
   ]
  },
  {
   "cell_type": "code",
   "execution_count": null,
   "id": "fa8cd62f",
   "metadata": {
    "vscode": {
     "languageId": "plaintext"
    }
   },
   "outputs": [],
   "source": [
    "import numpy as np"
   ]
  }
 ],
 "metadata": {
  "language_info": {
   "name": "python"
  }
 },
 "nbformat": 4,
 "nbformat_minor": 5
}
