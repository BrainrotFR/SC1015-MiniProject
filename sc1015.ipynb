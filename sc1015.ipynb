{
 "cells": [
  {
   "cell_type": "markdown",
   "id": "3b175941",
   "metadata": {},
   "source": [
    "Mini-Project "
   ]
  },
  {
   "cell_type": "code",
   "execution_count": null,
   "id": "1f74c9a6",
   "metadata": {},
   "outputs": [],
   "source": [
    "# For data processing\n",
    "import numpy as np\n",
    "import pandas as pd"
   ]
  }
 ],
 "metadata": {
  "language_info": {
   "name": "python"
  }
 },
 "nbformat": 4,
 "nbformat_minor": 5
}
