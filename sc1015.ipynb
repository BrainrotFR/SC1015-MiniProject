{
 "cells": [
  {
   "cell_type": "markdown",
   "id": "3b175941",
   "metadata": {},
   "source": [
    "Mini-Project bla bla bla"
   ]
  },
  {
   "cell_type": "markdown",
   "id": "1f74c9a6",
   "metadata": {},
   "source": [
    "import "
   ]
  }
 ],
 "metadata": {
  "language_info": {
   "name": "python"
  }
 },
 "nbformat": 4,
 "nbformat_minor": 5
}
